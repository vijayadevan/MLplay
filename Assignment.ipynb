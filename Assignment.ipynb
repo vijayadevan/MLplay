{
 "cells": [
  {
   "cell_type": "markdown",
   "metadata": {},
   "source": [
    "# <center> Part A </center>"
   ]
  },
  {
   "cell_type": "markdown",
   "metadata": {},
   "source": [
    "### 1) Import numpy as np, and pandas as pd"
   ]
  },
  {
   "cell_type": "code",
   "execution_count": 8,
   "metadata": {},
   "outputs": [],
   "source": [
    "# your code here\n",
    "import numpy as np\n",
    "import pandas as pd"
   ]
  },
  {
   "cell_type": "code",
   "execution_count": null,
   "metadata": {},
   "outputs": [],
   "source": [
    "# leave this cell blank"
   ]
  },
  {
   "cell_type": "markdown",
   "metadata": {},
   "source": [
    "### 2) Re-implement the following logic in a single line of code with list comprehension"
   ]
  },
  {
   "cell_type": "code",
   "execution_count": 3,
   "metadata": {},
   "outputs": [
    {
     "name": "stdout",
     "output_type": "stream",
     "text": [
      "[45.0, 190.0, 435.0, 780.0, 1225.0]\n"
     ]
    }
   ],
   "source": [
    "# original code\n",
    "def foo(n):\n",
    "    return n*(n-1)/2\n",
    "\n",
    "lst = [10, 20, 30, 40, 50]\n",
    "\n",
    "nlst = []\n",
    "for l in lst:\n",
    "    nlst.append(foo(l))\n",
    "\n",
    "print (nlst)"
   ]
  },
  {
   "cell_type": "code",
   "execution_count": 4,
   "metadata": {},
   "outputs": [
    {
     "name": "stdout",
     "output_type": "stream",
     "text": [
      "[45.0, 190.0, 435.0, 780.0, 1225.0]\n"
     ]
    }
   ],
   "source": [
    "# your single line of code (not including print statement) using list comprehension here\n",
    "nlst = [foo(l) for l in lst] # [n*(n-1)/2 for n in lst] is also possible\n",
    "print (nlst)"
   ]
  },
  {
   "cell_type": "code",
   "execution_count": null,
   "metadata": {},
   "outputs": [],
   "source": [
    "# leave this cell blank"
   ]
  },
  {
   "cell_type": "markdown",
   "metadata": {},
   "source": [
    "### 3) Re-implement the following logic in a single line of code with map and lambda"
   ]
  },
  {
   "cell_type": "code",
   "execution_count": 5,
   "metadata": {},
   "outputs": [
    {
     "name": "stdout",
     "output_type": "stream",
     "text": [
      "[45.0, 190.0, 435.0, 780.0, 1225.0]\n"
     ]
    }
   ],
   "source": [
    "# original code\n",
    "def foo(n):\n",
    "    return n*(n-1)/2\n",
    "\n",
    "lst = [10, 20, 30, 40, 50]\n",
    "\n",
    "nlst = []\n",
    "for l in lst:\n",
    "    nlst.append(foo(l))\n",
    "\n",
    "print (nlst)"
   ]
  },
  {
   "cell_type": "code",
   "execution_count": 6,
   "metadata": {},
   "outputs": [
    {
     "name": "stdout",
     "output_type": "stream",
     "text": [
      "[45.0, 190.0, 435.0, 780.0, 1225.0]\n"
     ]
    }
   ],
   "source": [
    "# your single line of code (not including print statement) using map and lambda here\n",
    "nlst = list(map(lambda l: l*(l-1)/2, lst))\n",
    "print (nlst)"
   ]
  },
  {
   "cell_type": "code",
   "execution_count": null,
   "metadata": {},
   "outputs": [],
   "source": [
    "# leave this cell blank"
   ]
  },
  {
   "cell_type": "markdown",
   "metadata": {},
   "source": [
    "### 4) Re-implement the following logic in a single line of code with filter and lambda"
   ]
  },
  {
   "cell_type": "code",
   "execution_count": 1,
   "metadata": {},
   "outputs": [
    {
     "name": "stdout",
     "output_type": "stream",
     "text": [
      "[30, 40, 50]\n"
     ]
    }
   ],
   "source": [
    "# original code\n",
    "def foo(n):\n",
    "    if n>25:\n",
    "        return True\n",
    "    else:\n",
    "        return False\n",
    "\n",
    "lst = [10, 20, 30, 40, 50]\n",
    "\n",
    "nlst = []\n",
    "for l in lst:\n",
    "    if foo(l) == True:\n",
    "        nlst.append(l)\n",
    "\n",
    "print (nlst)"
   ]
  },
  {
   "cell_type": "code",
   "execution_count": 2,
   "metadata": {},
   "outputs": [
    {
     "name": "stdout",
     "output_type": "stream",
     "text": [
      "[30, 40, 50]\n"
     ]
    }
   ],
   "source": [
    "# your single line of code (not including print statement) using filter and lambda here\n",
    "nlst = list(filter(lambda l: l>25, lst))\n",
    "print (nlst)"
   ]
  },
  {
   "cell_type": "code",
   "execution_count": null,
   "metadata": {},
   "outputs": [],
   "source": [
    "# leave this cell blank"
   ]
  },
  {
   "cell_type": "markdown",
   "metadata": {},
   "source": [
    "# <center> Part B </center>"
   ]
  },
  {
   "cell_type": "markdown",
   "metadata": {},
   "source": [
    "### 5) Execute the next cell as-is to create a numpy array arr"
   ]
  },
  {
   "cell_type": "code",
   "execution_count": 9,
   "metadata": {},
   "outputs": [
    {
     "name": "stdout",
     "output_type": "stream",
     "text": [
      "[[10 16 65 29 90 94 30  9 74  1 41 37 17 12 55 89 63 34 73 79 50 52 55 78\n",
      "  70 14 26 14 93 87 31 31 90 13 66]]\n"
     ]
    }
   ],
   "source": [
    "np.random.seed(10)\n",
    "arr = np.random.randint(1, 100, (1, 35))\n",
    "print (arr)"
   ]
  },
  {
   "cell_type": "code",
   "execution_count": null,
   "metadata": {},
   "outputs": [],
   "source": [
    "# leave this cell blank"
   ]
  },
  {
   "cell_type": "markdown",
   "metadata": {},
   "source": [
    "### 6) Re-shape arr to have 5 rows and 7 columns; then print arr \n",
    "##### [note: after this manipulation arr should have 5 rows and 7 columns]"
   ]
  },
  {
   "cell_type": "code",
   "execution_count": 10,
   "metadata": {},
   "outputs": [
    {
     "name": "stdout",
     "output_type": "stream",
     "text": [
      "[[10 16 65 29 90 94 30]\n",
      " [ 9 74  1 41 37 17 12]\n",
      " [55 89 63 34 73 79 50]\n",
      " [52 55 78 70 14 26 14]\n",
      " [93 87 31 31 90 13 66]]\n"
     ]
    }
   ],
   "source": [
    "# your code here\n",
    "arr = np.reshape(arr, (5, 7))\n",
    "print (arr)"
   ]
  },
  {
   "cell_type": "code",
   "execution_count": null,
   "metadata": {},
   "outputs": [],
   "source": [
    "# leave this cell blank"
   ]
  },
  {
   "cell_type": "markdown",
   "metadata": {},
   "source": [
    "### 7) Convert arr into a pandas dataframe called df with rows ['s1', 's2', 's3', 's4', 's5'] and columns ['f1', 'f2', 'f3', 'f4', 'f5', 'f6', 'f7']; then print df"
   ]
  },
  {
   "cell_type": "code",
   "execution_count": 11,
   "metadata": {},
   "outputs": [
    {
     "name": "stdout",
     "output_type": "stream",
     "text": [
      "    f1  f2  f3  f4  f5  f6  f7\n",
      "s1  10  16  65  29  90  94  30\n",
      "s2   9  74   1  41  37  17  12\n",
      "s3  55  89  63  34  73  79  50\n",
      "s4  52  55  78  70  14  26  14\n",
      "s5  93  87  31  31  90  13  66\n"
     ]
    }
   ],
   "source": [
    "# your code here\n",
    "df = pd.DataFrame(arr, index=['s1', 's2', 's3', 's4', 's5'], columns=['f1', 'f2', 'f3', 'f4', 'f5', 'f6', 'f7'])\n",
    "print (df)"
   ]
  },
  {
   "cell_type": "code",
   "execution_count": null,
   "metadata": {},
   "outputs": [],
   "source": [
    "# leave this cell blank"
   ]
  },
  {
   "cell_type": "markdown",
   "metadata": {},
   "source": [
    "### 8) Include a new column called 'f8' in df with the following values: ['X', 'X', 'X', 'Y', 'Y']; then print df\n",
    "##### [note: afer this manipulation df should contain a new column called f8]"
   ]
  },
  {
   "cell_type": "code",
   "execution_count": 12,
   "metadata": {},
   "outputs": [
    {
     "name": "stdout",
     "output_type": "stream",
     "text": [
      "    f1  f2  f3  f4  f5  f6  f7 f8\n",
      "s1  10  16  65  29  90  94  30  X\n",
      "s2   9  74   1  41  37  17  12  X\n",
      "s3  55  89  63  34  73  79  50  X\n",
      "s4  52  55  78  70  14  26  14  Y\n",
      "s5  93  87  31  31  90  13  66  Y\n"
     ]
    }
   ],
   "source": [
    "# your code here\n",
    "df['f8'] = ['X', 'X', 'X', 'Y', 'Y']\n",
    "print (df)"
   ]
  },
  {
   "cell_type": "code",
   "execution_count": null,
   "metadata": {},
   "outputs": [],
   "source": [
    "# leave this cell blank"
   ]
  },
  {
   "cell_type": "markdown",
   "metadata": {},
   "source": [
    "### 9) Print column f1 in df"
   ]
  },
  {
   "cell_type": "code",
   "execution_count": 13,
   "metadata": {},
   "outputs": [
    {
     "name": "stdout",
     "output_type": "stream",
     "text": [
      "s1    10\n",
      "s2     9\n",
      "s3    55\n",
      "s4    52\n",
      "s5    93\n",
      "Name: f1, dtype: int32\n"
     ]
    }
   ],
   "source": [
    "# your code here\n",
    "print (df['f1'])"
   ]
  },
  {
   "cell_type": "code",
   "execution_count": null,
   "metadata": {},
   "outputs": [],
   "source": [
    "# leave this cell blank"
   ]
  },
  {
   "cell_type": "markdown",
   "metadata": {},
   "source": [
    "### 10) Print row s3 in df"
   ]
  },
  {
   "cell_type": "code",
   "execution_count": 21,
   "metadata": {},
   "outputs": [
    {
     "name": "stdout",
     "output_type": "stream",
     "text": [
      "f1    55\n",
      "f2    89\n",
      "f3    63\n",
      "f4    34\n",
      "f5    73\n",
      "f6    79\n",
      "f7    50\n",
      "f8     X\n",
      "Name: s3, dtype: object\n"
     ]
    }
   ],
   "source": [
    "# your code here\n",
    "print (df.loc['s3'])"
   ]
  },
  {
   "cell_type": "code",
   "execution_count": null,
   "metadata": {},
   "outputs": [],
   "source": [
    "# leave this cell blank"
   ]
  },
  {
   "cell_type": "markdown",
   "metadata": {},
   "source": [
    "### 11) Print the element at row s4 and column f6 in df"
   ]
  },
  {
   "cell_type": "code",
   "execution_count": 22,
   "metadata": {},
   "outputs": [
    {
     "name": "stdout",
     "output_type": "stream",
     "text": [
      "26\n"
     ]
    }
   ],
   "source": [
    "# your code here\n",
    "print (df.loc['s4']['f6'])"
   ]
  },
  {
   "cell_type": "code",
   "execution_count": null,
   "metadata": {},
   "outputs": [],
   "source": [
    "# leave this cell blank"
   ]
  },
  {
   "cell_type": "markdown",
   "metadata": {},
   "source": [
    "### 12) Print the subsection of data in df containing rows s2 and s3, and columns f5 and f6"
   ]
  },
  {
   "cell_type": "code",
   "execution_count": 24,
   "metadata": {},
   "outputs": [
    {
     "name": "stdout",
     "output_type": "stream",
     "text": [
      "    f5  f6\n",
      "s2  37  17\n",
      "s3  73  79\n"
     ]
    }
   ],
   "source": [
    "# your code here\n",
    "print (df.loc['s2':'s3', 'f5':'f6'])"
   ]
  },
  {
   "cell_type": "code",
   "execution_count": null,
   "metadata": {},
   "outputs": [],
   "source": [
    "# leave this cell blank"
   ]
  },
  {
   "cell_type": "markdown",
   "metadata": {},
   "source": [
    "### 13) Create a new column in df called 'f9' as the sum of column 'f1' and column 'f2'; then print df\n",
    "##### [note: afer this manipulation df should contain a new column called f9]"
   ]
  },
  {
   "cell_type": "code",
   "execution_count": 25,
   "metadata": {},
   "outputs": [
    {
     "name": "stdout",
     "output_type": "stream",
     "text": [
      "    f1  f2  f3  f4  f5  f6  f7 f8   f9\n",
      "s1  10  16  65  29  90  94  30  X   26\n",
      "s2   9  74   1  41  37  17  12  X   83\n",
      "s3  55  89  63  34  73  79  50  X  144\n",
      "s4  52  55  78  70  14  26  14  Y  107\n",
      "s5  93  87  31  31  90  13  66  Y  180\n"
     ]
    }
   ],
   "source": [
    "# your code here\n",
    "df['f9'] = df['f1'] + df['f2']\n",
    "print (df)"
   ]
  },
  {
   "cell_type": "code",
   "execution_count": null,
   "metadata": {},
   "outputs": [],
   "source": [
    "# leave this cell blank"
   ]
  },
  {
   "cell_type": "markdown",
   "metadata": {},
   "source": [
    "### 14) Create a new column in df called 'f10' as the log of column 'f3'; then print df\n",
    "##### [note: afer this manipulation df should contain a new column called f10]"
   ]
  },
  {
   "cell_type": "code",
   "execution_count": 26,
   "metadata": {},
   "outputs": [
    {
     "name": "stdout",
     "output_type": "stream",
     "text": [
      "    f1  f2  f3  f4  f5  f6  f7 f8   f9       f10\n",
      "s1  10  16  65  29  90  94  30  X   26  4.174387\n",
      "s2   9  74   1  41  37  17  12  X   83  0.000000\n",
      "s3  55  89  63  34  73  79  50  X  144  4.143135\n",
      "s4  52  55  78  70  14  26  14  Y  107  4.356709\n",
      "s5  93  87  31  31  90  13  66  Y  180  3.433987\n"
     ]
    }
   ],
   "source": [
    "# your code here\n",
    "df['f10'] = np.log(df['f3'])\n",
    "print (df)"
   ]
  },
  {
   "cell_type": "code",
   "execution_count": null,
   "metadata": {},
   "outputs": [],
   "source": [
    "# leave this cell blank"
   ]
  },
  {
   "cell_type": "markdown",
   "metadata": {},
   "source": [
    "### 15) Create a new column in df called 'f11' as the standardized value of column 'f4'; then print df\n",
    "##### [note: to standardize the elements in a column, you will subtract out the mean of the column, and divide by standard deviation of the column]\n",
    "##### [note: afer this manipulation df should contain a new column called f11]"
   ]
  },
  {
   "cell_type": "code",
   "execution_count": 27,
   "metadata": {},
   "outputs": [
    {
     "name": "stdout",
     "output_type": "stream",
     "text": [
      "    f1  f2  f3  f4  f5  f6  f7 f8   f9       f10       f11\n",
      "s1  10  16  65  29  90  94  30  X   26  4.174387 -0.712697\n",
      "s2   9  74   1  41  37  17  12  X   83  0.000000  0.000000\n",
      "s3  55  89  63  34  73  79  50  X  144  4.143135 -0.415740\n",
      "s4  52  55  78  70  14  26  14  Y  107  4.356709  1.722350\n",
      "s5  93  87  31  31  90  13  66  Y  180  3.433987 -0.593914\n"
     ]
    }
   ],
   "source": [
    "# your code here\n",
    "df['f11'] = (df['f4'] - df['f4'].mean())/df['f4'].std()\n",
    "print (df)"
   ]
  },
  {
   "cell_type": "code",
   "execution_count": null,
   "metadata": {},
   "outputs": [],
   "source": [
    "# leave this cell blank"
   ]
  },
  {
   "cell_type": "markdown",
   "metadata": {},
   "source": [
    "### 16) Use apply and lambda to create a new column in df called 'f12', where f12 is set to 1 if f5>50, else it is set to 0; then print df\n",
    "##### [note: afer this manipulation df should contain a new column called f12]"
   ]
  },
  {
   "cell_type": "code",
   "execution_count": 28,
   "metadata": {},
   "outputs": [
    {
     "name": "stdout",
     "output_type": "stream",
     "text": [
      "    f1  f2  f3  f4  f5  f6  f7 f8   f9       f10       f11  f12\n",
      "s1  10  16  65  29  90  94  30  X   26  4.174387 -0.712697    1\n",
      "s2   9  74   1  41  37  17  12  X   83  0.000000  0.000000    0\n",
      "s3  55  89  63  34  73  79  50  X  144  4.143135 -0.415740    1\n",
      "s4  52  55  78  70  14  26  14  Y  107  4.356709  1.722350    0\n",
      "s5  93  87  31  31  90  13  66  Y  180  3.433987 -0.593914    1\n"
     ]
    }
   ],
   "source": [
    "# your code here\n",
    "df['f12'] = df['f5'].apply(lambda x: 1 if x>50 else 0)\n",
    "print (df)"
   ]
  },
  {
   "cell_type": "code",
   "execution_count": null,
   "metadata": {},
   "outputs": [],
   "source": [
    "# leave this cell blank"
   ]
  },
  {
   "cell_type": "markdown",
   "metadata": {},
   "source": [
    "### 17) Drop columns f1, f2, f3, f4, f5 in df; then print df \n",
    "##### [note: after this manipulation, df should only contain columns f6 through f12]"
   ]
  },
  {
   "cell_type": "code",
   "execution_count": 29,
   "metadata": {},
   "outputs": [
    {
     "name": "stdout",
     "output_type": "stream",
     "text": [
      "    f6  f7 f8   f9       f10       f11  f12\n",
      "s1  94  30  X   26  4.174387 -0.712697    1\n",
      "s2  17  12  X   83  0.000000  0.000000    0\n",
      "s3  79  50  X  144  4.143135 -0.415740    1\n",
      "s4  26  14  Y  107  4.356709  1.722350    0\n",
      "s5  13  66  Y  180  3.433987 -0.593914    1\n"
     ]
    }
   ],
   "source": [
    "# your code here\n",
    "df.drop(['f1', 'f2', 'f3', 'f4', 'f5'], axis=1, inplace=True)\n",
    "print (df)"
   ]
  },
  {
   "cell_type": "code",
   "execution_count": null,
   "metadata": {},
   "outputs": [],
   "source": [
    "# leave this cell bblank"
   ]
  },
  {
   "cell_type": "markdown",
   "metadata": {},
   "source": [
    "### 18) Use conditional selection and masking to only view those rows in df where f6 < f7 or f11 > 0\n",
    "##### [note: you are NOT changing df as a result of this operation - just viewing the result of conditional selection with masking]"
   ]
  },
  {
   "cell_type": "code",
   "execution_count": 30,
   "metadata": {},
   "outputs": [
    {
     "name": "stdout",
     "output_type": "stream",
     "text": [
      "    f6  f7 f8   f9       f10       f11  f12\n",
      "s4  26  14  Y  107  4.356709  1.722350    0\n",
      "s5  13  66  Y  180  3.433987 -0.593914    1\n"
     ]
    }
   ],
   "source": [
    "# your code here\n",
    "print (df[(df['f6'] < df['f7']) | (df['f11'] > 0)])"
   ]
  },
  {
   "cell_type": "code",
   "execution_count": null,
   "metadata": {},
   "outputs": [],
   "source": [
    "# leave this cell blank"
   ]
  },
  {
   "cell_type": "markdown",
   "metadata": {},
   "source": [
    "### 19) Use conditional selection and masking to only view those rows in df where f6 > f7 and f11 > 0\n",
    "##### [note: you are NOT changing df as a result of this operation - just viewing the result of conditional selection with masking]"
   ]
  },
  {
   "cell_type": "code",
   "execution_count": 31,
   "metadata": {},
   "outputs": [
    {
     "name": "stdout",
     "output_type": "stream",
     "text": [
      "    f6  f7 f8   f9       f10      f11  f12\n",
      "s4  26  14  Y  107  4.356709  1.72235    0\n"
     ]
    }
   ],
   "source": [
    "# your code here\n",
    "print (df[(df['f6'] > df['f7']) & (df['f11'] > 0)])"
   ]
  },
  {
   "cell_type": "code",
   "execution_count": null,
   "metadata": {},
   "outputs": [],
   "source": [
    "# leave this cell blank"
   ]
  },
  {
   "cell_type": "markdown",
   "metadata": {},
   "source": [
    "### 20) Createa a pivot table to look at average values of f9 by features f8 and f12; also provide row averages and column averages"
   ]
  },
  {
   "cell_type": "code",
   "execution_count": 35,
   "metadata": {},
   "outputs": [
    {
     "name": "stdout",
     "output_type": "stream",
     "text": [
      "         mean  size\n",
      "f8 f12             \n",
      "X  0     83.0   1.0\n",
      "   1     85.0   2.0\n",
      "Y  0    107.0   1.0\n",
      "   1    180.0   1.0\n"
     ]
    }
   ],
   "source": [
    "# your code here\n",
    "#pd.pivot_table(df, values='f9', index=['f8', 'f12'], aggfunc=np.mean)\n",
    "print (pd.pivot_table(df, values='f9', index=['f8', 'f12'], aggfunc={'f9': [np.mean, np.size]}))"
   ]
  },
  {
   "cell_type": "code",
   "execution_count": 36,
   "metadata": {},
   "outputs": [],
   "source": [
    "# leave this cell blank"
   ]
  },
  {
   "cell_type": "code",
   "execution_count": null,
   "metadata": {},
   "outputs": [],
   "source": []
  }
 ],
 "metadata": {
  "kernelspec": {
   "display_name": "Python 3",
   "language": "python",
   "name": "python3"
  },
  "language_info": {
   "codemirror_mode": {
    "name": "ipython",
    "version": 3
   },
   "file_extension": ".py",
   "mimetype": "text/x-python",
   "name": "python",
   "nbconvert_exporter": "python",
   "pygments_lexer": "ipython3",
   "version": "3.7.1"
  }
 },
 "nbformat": 4,
 "nbformat_minor": 2
}
